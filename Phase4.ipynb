{
  "nbformat": 4,
  "nbformat_minor": 0,
  "metadata": {
    "colab": {
      "provenance": []
    },
    "kernelspec": {
      "name": "python3",
      "display_name": "Python 3"
    },
    "language_info": {
      "name": "python"
    }
  },
  "cells": [
    {
      "cell_type": "markdown",
      "source": [
        "# Fake News Detection using NLP\n",
        "\n",
        "**IBM Naan Mudhalvan AI101** \\\\\n",
        "*Anna University (Madras Institute of Technology)*\n",
        "\n",
        "---\n",
        "\n"
      ],
      "metadata": {
        "id": "OolggW6uDiRW"
      }
    },
    {
      "cell_type": "markdown",
      "source": [
        "## Introduction\n",
        "\n",
        "In this project, we will build a fake news detection model using Natural Language Processing (NLP) techniques. We have a dataset consisting of genuine and fake articles' titles and text, and our goal is to distinguish between them.\n",
        "\n",
        "## Step 1: Import Necessary Libraries"
      ],
      "metadata": {
        "id": "oVhCtE_SwomP"
      }
    },
    {
      "cell_type": "code",
      "execution_count": 11,
      "metadata": {
        "id": "nDVWXLh6bqT1",
        "colab": {
          "base_uri": "https://localhost:8080/"
        },
        "outputId": "323e2c31-2219-4e34-f50b-c242dcab0265"
      },
      "outputs": [
        {
          "output_type": "stream",
          "name": "stderr",
          "text": [
            "[nltk_data] Downloading package punkt to /root/nltk_data...\n",
            "[nltk_data]   Unzipping tokenizers/punkt.zip.\n"
          ]
        },
        {
          "output_type": "execute_result",
          "data": {
            "text/plain": [
              "True"
            ]
          },
          "metadata": {},
          "execution_count": 11
        }
      ],
      "source": [
        "import pandas as pd\n",
        "import numpy as np\n",
        "from sklearn.model_selection import train_test_split\n",
        "from sklearn.feature_extraction.text import TfidfVectorizer\n",
        "from sklearn.naive_bayes import MultinomialNB\n",
        "from sklearn.metrics import accuracy_score, confusion_matrix, classification_report\n",
        "import nltk\n",
        "from nltk.corpus import stopwords\n",
        "nltk.download('punkt')"
      ]
    },
    {
      "cell_type": "markdown",
      "source": [
        "## Step 2: Load and Explore the Dataset"
      ],
      "metadata": {
        "id": "eIjcqHkpEZld"
      }
    },
    {
      "cell_type": "code",
      "source": [
        "# Load the dataset\n",
        "true_df = pd.read_csv('/content/drive/MyDrive/Colab Notebooks/fake-news-detective/dataset/True.csv')\n",
        "false_df = pd.read_csv('/content/drive/MyDrive/Colab Notebooks/fake-news-detective/dataset/Fake.csv')\n",
        "\n",
        "# Add labels to indicate real and fake news\n",
        "true_df['label'] = 1\n",
        "false_df['label'] = 0\n",
        "\n",
        "# Concatenate both datasets\n",
        "data = pd.concat([true_df, false_df])"
      ],
      "metadata": {
        "id": "mmKulC38EkEY"
      },
      "execution_count": 9,
      "outputs": []
    },
    {
      "cell_type": "markdown",
      "source": [
        "## Step 3: Data Preprocessing"
      ],
      "metadata": {
        "id": "snG-90eGEnXP"
      }
    },
    {
      "cell_type": "code",
      "source": [
        "# Lowercasing and tokenization\n",
        "data['text'] = data['text'].str.lower()\n",
        "data['title'] = data['title'].str.lower()\n",
        "data['text'] = data['text'].apply(nltk.word_tokenize)\n",
        "data['title'] = data['title'].apply(nltk.word_tokenize)\n",
        "\n",
        "# Remove stopwords\n",
        "stop_words = set(stopwords.words('english'))\n",
        "data['text'] = data['text'].apply(lambda x: [word for word in x if word not in stop_words])\n",
        "data['title'] = data['title'].apply(lambda x: [word for word in x if word not in stop_words])"
      ],
      "metadata": {
        "id": "CkOm1kI9EqQC"
      },
      "execution_count": null,
      "outputs": []
    },
    {
      "cell_type": "markdown",
      "source": [
        "## Step 4: Feature Extraction (TF-IDF)"
      ],
      "metadata": {
        "id": "Rrf6Em1KEt6I"
      }
    },
    {
      "cell_type": "code",
      "source": [
        "tfidf_vectorizer = TfidfVectorizer(max_features=5000)\n",
        "text_tfidf = tfidf_vectorizer.fit_transform(data['text'].apply(lambda x: ' '.join(x)))\n",
        "\n",
        "title_tfidf = tfidf_vectorizer.transform(data['title'].apply(lambda x: ' '.join(x)))\n"
      ],
      "metadata": {
        "id": "-E0hE-53FXvy"
      },
      "execution_count": null,
      "outputs": []
    },
    {
      "cell_type": "markdown",
      "source": [
        "## Step 5: Split the Data into Training and Testing Sets"
      ],
      "metadata": {
        "id": "QFfl9sblFaYY"
      }
    },
    {
      "cell_type": "code",
      "source": [
        "X = text_tfidf\n",
        "y = data['label']\n",
        "\n",
        "X_train, X_test, y_train, y_test = train_test_split(X, y, test_size=0.2, random_state=42)\n"
      ],
      "metadata": {
        "id": "0gRGbyuCFfvZ"
      },
      "execution_count": null,
      "outputs": []
    }
  ]
}
